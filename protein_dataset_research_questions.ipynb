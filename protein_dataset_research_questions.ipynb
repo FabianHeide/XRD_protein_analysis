{
 "cells": [
  {
   "cell_type": "code",
   "execution_count": 2,
   "id": "b7806f61",
   "metadata": {},
   "outputs": [],
   "source": [
    "import numpy as np\n",
    "import pandas as pd\n",
    "import matplotlib.pyplot as plt\n",
    "import seaborn as sns\n",
    "import os\n",
    "\n",
    "pd.set_option('display.max_columns', None)\n",
    "#pd.set_option('display.max_rows', None)\n",
    "\n",
    "df1 = pd.read_csv('raw_data/XRD_protein_properties.csv', encoding='utf8')"
   ]
  },
  {
   "cell_type": "markdown",
   "id": "87fb6b6d",
   "metadata": {},
   "source": [
    "## Research questions for the protein dataset"
   ]
  },
  {
   "cell_type": "markdown",
   "id": "8b6f3681",
   "metadata": {},
   "source": [
    "#### 1. Define protein stability. What protein parameters determine a higher stability index?\n",
    "#### 2. Compare the protein populations with isoelectric point values above and below 7.3.\n",
    "#### 3. What general differences are associated with an inclusion of a Cardin-Weintraub motif?\n",
    "#### 4. What are the key determinants of crystal quality and diffraction resolution?"
   ]
  },
  {
   "cell_type": "code",
   "execution_count": null,
   "id": "b77a7a6d",
   "metadata": {},
   "outputs": [],
   "source": []
  }
 ],
 "metadata": {
  "kernelspec": {
   "display_name": "Python 3 (ipykernel)",
   "language": "python",
   "name": "python3"
  },
  "language_info": {
   "codemirror_mode": {
    "name": "ipython",
    "version": 3
   },
   "file_extension": ".py",
   "mimetype": "text/x-python",
   "name": "python",
   "nbconvert_exporter": "python",
   "pygments_lexer": "ipython3",
   "version": "3.11.0"
  }
 },
 "nbformat": 4,
 "nbformat_minor": 5
}
