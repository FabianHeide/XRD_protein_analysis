{
 "cells": [
  {
   "cell_type": "markdown",
   "id": "27e0a57f",
   "metadata": {},
   "source": [
    "## Combine, filter and save XRD data"
   ]
  },
  {
   "cell_type": "code",
   "execution_count": 11,
   "id": "c3142e0d",
   "metadata": {},
   "outputs": [],
   "source": [
    "#loads and combines all .csv files for XRD data into one file\n",
    "\n",
    "import pandas as pd\n",
    "import glob\n",
    "import os\n",
    "\n",
    "files = glob.glob('raw_data/rcsb_pdb_custom_report_*.csv')\n",
    "\n",
    "if(os.path.exists('raw_data/XRD_combined.csv') and os.path.isfile('raw_data/XRD_combined.csv')):\n",
    "    os.remove('raw_data/XRD_combined.csv')\n",
    "else:\n",
    "    pass\n",
    "\n",
    "for i in files:\n",
    "    df = pd.read_csv(i, header=1)\n",
    "    df = df.fillna(method='ffill')\n",
    "    df = df[df['Experimental Method'].isin(['X-RAY DIFFRACTION'])]\n",
    "    df = df.drop(['EM Resolution (Å)', 'Unnamed: 22', 'Ligand','Entry Id (Polymer Entity Identifiers)'], axis=1)\n",
    "    df.to_csv('raw_data/XRD_combined.csv', mode='a')"
   ]
  },
  {
   "cell_type": "code",
   "execution_count": 14,
   "id": "df77e018",
   "metadata": {},
   "outputs": [],
   "source": [
    "#filters and cleans dataframe for further use\n",
    "#second dataframe is then created and saved which does not contain any duplicates based on 'Entry ID'\n",
    "\n",
    "data = pd.read_csv('raw_data/XRD_combined.csv', encoding = 'utf8')\n",
    "data = data.drop(['Unnamed: 0'], axis=1)\n",
    "\n",
    "data_1 = data.drop_duplicates(subset=['Entry ID'])\n",
    "\n",
    "if(os.path.exists('raw_data/XRD_combined_noduplicates.csv') and os.path.isfile('raw_data/XRD_combined_noduplicates.csv')):\n",
    "    os.remove('raw_data/XRD_combined_noduplicates.csv')\n",
    "else:\n",
    "    data_1.to_csv('raw_data/XRD_combined_noduplicates.csv', mode='a')"
   ]
  },
  {
   "cell_type": "markdown",
   "id": "a8f4bbb9",
   "metadata": {},
   "source": [
    "### Initial data processing for analysis"
   ]
  },
  {
   "cell_type": "code",
   "execution_count": 15,
   "id": "9fd9d790",
   "metadata": {},
   "outputs": [],
   "source": [
    "#basic column type definitions and changes to numeric dtype\n",
    "\n",
    "float_columns = ['Matthews Coefficient','Percent Solvent Content','pH','Temp (K)','Molecular Weight per Deposited Model',\n",
    "                'Resolution (Å)','High Resolution Limit','Entity ID'] \n",
    "str_columns = ['Entry ID','Experimental Method','Crystallization Method','Crystal Growth Procedure','DOI','PDB ID',\n",
    "              'Structure Title','Sequence','Source Organism','Gene Name']\n",
    "\n",
    "for i in float_columns:\n",
    "    data[i] = pd.to_numeric(data[i], errors='coerce')"
   ]
  },
  {
   "cell_type": "code",
   "execution_count": 17,
   "id": "8d14a894",
   "metadata": {},
   "outputs": [
    {
     "name": "stdout",
     "output_type": "stream",
     "text": [
      "<class 'pandas.core.frame.DataFrame'>\n",
      "RangeIndex: 83968 entries, 0 to 83967\n",
      "Data columns (total 19 columns):\n",
      " #   Column                                Non-Null Count  Dtype  \n",
      "---  ------                                --------------  -----  \n",
      " 0   Entry ID                              83968 non-null  object \n",
      " 1   Experimental Method                   83968 non-null  object \n",
      " 2   Matthews Coefficient                  83944 non-null  float64\n",
      " 3   Percent Solvent Content               83944 non-null  float64\n",
      " 4   Crystallization Method                83963 non-null  object \n",
      " 5   pH                                    83867 non-null  float64\n",
      " 6   Crystal Growth Procedure              83965 non-null  object \n",
      " 7   Temp (K)                              83939 non-null  float64\n",
      " 8   DOI                                   83659 non-null  object \n",
      " 9   PDB ID                                83968 non-null  object \n",
      " 10  Molecular Weight per Deposited Model  83944 non-null  float64\n",
      " 11  Resolution (Å)                        83944 non-null  float64\n",
      " 12  High Resolution Limit                 83944 non-null  float64\n",
      " 13  Structure Title                       83968 non-null  object \n",
      " 14  Sequence                              83968 non-null  object \n",
      " 15  Source Organism                       83968 non-null  object \n",
      " 16  Gene Name                             83968 non-null  object \n",
      " 17  Macromolecule Name                    83968 non-null  object \n",
      " 18  Entity ID                             83944 non-null  float64\n",
      "dtypes: float64(8), object(11)\n",
      "memory usage: 12.2+ MB\n"
     ]
    }
   ],
   "source": [
    "data.info()"
   ]
  },
  {
   "cell_type": "code",
   "execution_count": null,
   "id": "6fecc9f0",
   "metadata": {},
   "outputs": [],
   "source": []
  }
 ],
 "metadata": {
  "kernelspec": {
   "display_name": "Python 3 (ipykernel)",
   "language": "python",
   "name": "python3"
  },
  "language_info": {
   "codemirror_mode": {
    "name": "ipython",
    "version": 3
   },
   "file_extension": ".py",
   "mimetype": "text/x-python",
   "name": "python",
   "nbconvert_exporter": "python",
   "pygments_lexer": "ipython3",
   "version": "3.11.0"
  }
 },
 "nbformat": 4,
 "nbformat_minor": 5
}
